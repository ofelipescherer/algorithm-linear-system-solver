{
 "cells": [
  {
   "cell_type": "code",
   "execution_count": 9,
   "id": "7a58ccfe",
   "metadata": {},
   "outputs": [
    {
     "name": "stdout",
     "output_type": "stream",
     "text": [
      "Matriz a: [[1.0, 2.0, 3.0], [5.0, 6.0, 7.0], [9.0, 10.0, 11.0]]\n",
      "Matriz b: [4.0, 8.0, 12.0]\n",
      "\n",
      "Resultados:\n",
      "x1: -0.67\n",
      "x2: 0.33\n",
      "x3: 1.33\n"
     ]
    }
   ],
   "source": [
    "import numpy as np\n",
    "import os\n",
    "\n",
    "#Pegando uma matriz da pasta 'matrix'\n",
    "file = os.path.join('./', 'matrix', 'matrix_1.txt')\n",
    "\n",
    "#Criando as duas matrizes que serão usadas para resolver\n",
    "main_matrix = []\n",
    "second_matrix = []\n",
    "\n",
    "#Abrindo o arquivo e passando linha por linha\n",
    "f = open(file, \"r\")\n",
    "for i in f:\n",
    "    #Eh necessario criar um outro array com numeros formatados, porque no split, pode vir um caractere '\\n'\n",
    "    formated_line = []\n",
    "    line = i.split(',')\n",
    "    for j in line:\n",
    "        #Removendo o '\\n' quando existir e transformando as strings para numeros\n",
    "        formated_line.append(float(j.replace('\\n',\"\")))\n",
    "    \n",
    "    #Pegando o ultimo valor de cada linha e adicionando a uma matriz separada\n",
    "    last_number = formated_line[len(formated_line)-1]\n",
    "    second_matrix.append(last_number)\n",
    "    formated_line.pop()\n",
    "    \n",
    "    #Juntando as linhas em apenas uma matriz\n",
    "    main_matrix.append(formated_line)\n",
    "    \n",
    "#Mostrando como as matriz ficaram depois de lidas\n",
    "print(f'Matriz a: {main_matrix}')\n",
    "print(f'Matriz b: {second_matrix}')\n",
    "\n",
    "#Usando o numpy para resolver o sistema linear \n",
    "#Para garantir o calculo, usaremos o metodo de pseudo-inversao de Moore-Penrose de matriz\n",
    "\n",
    "#Passo 1 (Opcional): Garantir a transformação para um array pelo numpy\n",
    "#Passo 2: Usar a funcao linalg.pinv na primeira matriz (Ela calcula automaticamente a pseudo-inversao da matriz)\n",
    "#Passo 3: Fazer a multiplicacao da matriz a com a matriz b. Para isso podemos usar a funcao dot() do numpy\n",
    "a = np.array(main_matrix)\n",
    "b = np.array(second_matrix)\n",
    "    \n",
    "x = np.linalg.pinv(a).dot(b)\n",
    "\n",
    "#Mostrando os resultados\n",
    "print('\\nResultados:')\n",
    "for index,value in enumerate(x):\n",
    "    print(f'x{index+1}: {round(value, 2)}')"
   ]
  },
  {
   "cell_type": "code",
   "execution_count": null,
   "id": "9291431b",
   "metadata": {},
   "outputs": [],
   "source": []
  }
 ],
 "metadata": {
  "kernelspec": {
   "display_name": "Python 3 (ipykernel)",
   "language": "python",
   "name": "python3"
  },
  "language_info": {
   "codemirror_mode": {
    "name": "ipython",
    "version": 3
   },
   "file_extension": ".py",
   "mimetype": "text/x-python",
   "name": "python",
   "nbconvert_exporter": "python",
   "pygments_lexer": "ipython3",
   "version": "3.10.0"
  }
 },
 "nbformat": 4,
 "nbformat_minor": 5
}
